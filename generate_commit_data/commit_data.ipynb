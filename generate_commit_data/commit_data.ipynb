{
 "cells": [
  {
   "cell_type": "code",
   "execution_count": null,
   "metadata": {
    "ExecuteTime": {
     "end_time": "2023-08-01T11:29:59.847779Z",
     "start_time": "2023-08-01T11:29:59.842578Z"
    },
    "collapsed": true
   },
   "outputs": [],
   "source": [
    "import pandas as pd\n",
    "import numpy as np"
   ]
  },
  {
   "cell_type": "code",
   "execution_count": null,
   "metadata": {
    "collapsed": false,
    "is_executing": true
   },
   "outputs": [],
   "source": [
    "df = pd.read_csv('/home/commit-data/commit_info_cloud_nuke/commit_data.csv')\n",
    "file_change_df = pd.read_csv('/home/commit-data/commit_info_cloud_nuke/commit_data_file_changes.csv')\n",
    "file_change_df = file_change_df.rename(columns={'file_change_uuid': 'link_uuid'})\n",
    "df.head()"
   ]
  },
  {
   "cell_type": "code",
   "execution_count": null,
   "metadata": {
    "ExecuteTime": {
     "end_time": "2023-07-20T06:33:17.241387Z",
     "start_time": "2023-07-20T06:33:17.215995Z"
    },
    "collapsed": false
   },
   "outputs": [],
   "source": [
    "file_change_df.head()"
   ]
  },
  {
   "cell_type": "code",
   "execution_count": null,
   "metadata": {
    "ExecuteTime": {
     "end_time": "2023-07-20T06:34:23.225580Z",
     "start_time": "2023-07-20T06:34:23.164473Z"
    },
    "collapsed": false
   },
   "outputs": [],
   "source": [
    "file_change_df = file_change_df.groupby('commit_html_url').agg(lambda x: x.tolist())"
   ]
  },
  {
   "cell_type": "code",
   "execution_count": null,
   "metadata": {
    "ExecuteTime": {
     "end_time": "2023-07-20T06:34:25.287628Z",
     "start_time": "2023-07-20T06:34:25.282742Z"
    },
    "collapsed": false
   },
   "outputs": [],
   "source": [
    "new_df = df.merge(file_change_df, on='commit_html_url', how='left')"
   ]
  },
  {
   "cell_type": "code",
   "execution_count": null,
   "metadata": {
    "ExecuteTime": {
     "end_time": "2023-07-20T06:34:34.172233Z",
     "start_time": "2023-07-20T06:34:33.938860Z"
    },
    "collapsed": false
   },
   "outputs": [],
   "source": [
    "update_test_commit = pd.DataFrame()\n",
    "\n",
    "for index, row in new_df.iterrows():\n",
    "    is_contain_test = False\n",
    "    if row[\"filename\"] is np.nan:\n",
    "        continue\n",
    "    for file in row[\"filename\"]:\n",
    "        if file.endswith('_test.go'):\n",
    "            is_contain_test = True\n",
    "            break\n",
    "    if is_contain_test:\n",
    "        update_test_commit = pd.concat([update_test_commit, row.to_frame().T])"
   ]
  },
  {
   "cell_type": "code",
   "execution_count": null,
   "metadata": {
    "ExecuteTime": {
     "end_time": "2023-07-20T06:34:37.115320Z",
     "start_time": "2023-07-20T06:34:37.085161Z"
    },
    "collapsed": false
   },
   "outputs": [],
   "source": [
    "update_test_commit"
   ]
  },
  {
   "cell_type": "code",
   "execution_count": null,
   "metadata": {
    "ExecuteTime": {
     "end_time": "2023-07-25T09:21:50.496008Z",
     "start_time": "2023-07-25T09:21:50.477700Z"
    },
    "collapsed": false
   },
   "outputs": [],
   "source": [
    "update_test_commit['commit_sha'] = update_test_commit['commit_html_url'].apply(lambda x: x.split('/')[-1])\n",
    "update_test_commit['parent_sha'] = update_test_commit['parent_commit_html_url'].apply(lambda x: x.split('/')[-1])\n",
    "update_test_commit"
   ]
  },
  {
   "cell_type": "code",
   "execution_count": null,
   "metadata": {
    "ExecuteTime": {
     "end_time": "2023-07-20T06:38:59.199540Z",
     "start_time": "2023-07-20T06:38:59.171392Z"
    },
    "collapsed": false
   },
   "outputs": [],
   "source": [
    "commit_list_sha = []\n",
    "\n",
    "for i, row in update_test_commit.iterrows():\n",
    "    if row['commit_sha'] not in commit_list_sha:\n",
    "        commit_list_sha.append(row['commit_sha'])\n",
    "    if row['parent_sha'] not in commit_list_sha:\n",
    "        commit_list_sha.append(row['parent_sha'])"
   ]
  },
  {
   "cell_type": "code",
   "execution_count": null,
   "metadata": {
    "ExecuteTime": {
     "end_time": "2023-07-20T07:38:51.248936Z",
     "start_time": "2023-07-20T07:38:51.239353Z"
    },
    "collapsed": false
   },
   "outputs": [],
   "source": [
    "commit_list_sha"
   ]
  },
  {
   "cell_type": "code",
   "execution_count": null,
   "metadata": {
    "collapsed": false
   },
   "outputs": [],
   "source": []
  }
 ],
 "metadata": {
  "kernelspec": {
   "display_name": "Python 3",
   "language": "python",
   "name": "python3"
  },
  "language_info": {
   "codemirror_mode": {
    "name": "ipython",
    "version": 2
   },
   "file_extension": ".py",
   "mimetype": "text/x-python",
   "name": "python",
   "nbconvert_exporter": "python",
   "pygments_lexer": "ipython2",
   "version": "2.7.6"
  }
 },
 "nbformat": 4,
 "nbformat_minor": 0
}
